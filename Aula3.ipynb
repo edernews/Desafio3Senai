{
 "cells": [
  {
   "cell_type": "markdown",
   "id": "21dd2ae4",
   "metadata": {},
   "source": [
    "### Exercício 17 - Faça um Programa que leia três números e mostre o maior e o menor deles."
   ]
  },
  {
   "cell_type": "code",
   "execution_count": null,
   "id": "c0e4a911",
   "metadata": {},
   "outputs": [],
   "source": [
    "### Programa para Ler o numeros e saber qual é o maior e o menor \n",
    "\n",
    "Num1 = int(input(\"Digite o primeiro numero \"))\n",
    "Num2 = int(input(\"Digite o segundo numero  \"))\n",
    "Num3 = int(input(\"Digite o terceiro numero \"))\n",
    "\n",
    "if Num1 > Num2 and Num3:\n",
    "    print(f' O primeiro numero que vc digitou é o maior {Num1}')\n",
    "elif Num2 > Num3 and Num1:\n",
    "    print(f' O segundo numero que vc digitou é o maior  {Num2}')\n",
    "elif Num3 > Num1 and Num2:\n",
    "    print(f' O terceiro numero que vc digitou é o maior {Num3}')\n",
    "    \n",
    "if Num1 < Num2 and Num3:\n",
    "    print(f' O primeiro numero que vc digitou é o menor {Num1}')\n",
    "elif Num2 < Num3 and Num1:\n",
    "    print(f' O segundo numero que vc digitou é o menor  {Num2}')\n",
    "elif Num3 < Num1 and Num2:\n",
    "    print(f' O terceiro numero que vc digitou é o menor {Num3}')\n",
    "    "
   ]
  },
  {
   "cell_type": "markdown",
   "id": "95b66e96",
   "metadata": {},
   "source": [
    "### Exercício 18 - Faça um programa que pergunte o preço de três produtos e informe qual\n",
    "### produto você deve comprar, sabendo que a decisão é sempre pelo mais barato."
   ]
  },
  {
   "cell_type": "code",
   "execution_count": null,
   "id": "b9e9d9d3",
   "metadata": {},
   "outputs": [],
   "source": [
    "Prod1 = float(input(\"Digite o preço Primeiro produto \"))\n",
    "Prod2 = float(input(\"Digite o preço Segundo produto  \"))\n",
    "Prod3 = float(input(\"Digite o preço Terceiro produto \"))\n",
    "if Prod1 < Prod2 and Prod3:\n",
    "    print(f' Voce deve comprar o primeiro produto pois é o mais Barato',Prod1)\n",
    "elif Prod2 < Prod3 and Prod1:\n",
    "    print(f'Voce deve comprar o segundo produto pois ele é o mais barato',Prod2)\n",
    "else:\n",
    "    print(f'Você deve comprar o terceiro produto pois ele é o mais barato',Prod3)\n"
   ]
  },
  {
   "cell_type": "markdown",
   "id": "0a88a7e6",
   "metadata": {},
   "source": [
    "### Exercício 19 - Faça um Programa que leia três números e mostre-os em ordem decrescente."
   ]
  },
  {
   "cell_type": "code",
   "execution_count": null,
   "id": "9003e928",
   "metadata": {},
   "outputs": [],
   "source": [
    "### digite os numero para o programa \n",
    "\n",
    "Num1 = float(input(\"Digite o Primeiro Numero \"))\n",
    "Num2 = float(input(\"Digite o Segundo  Numero \"))\n",
    "Num3 = float(input(\"Digite o Terceiro Numero \"))\n",
    "\n",
    "### condicional \n",
    "\n",
    "if Num1 > Num2 and Num1 > Num3:\n",
    "    \n",
    "    if Num2 > Num3:\n",
    "        print(f'Primeio valor = {Num1} Segundo valor = {Num2} Terceiro valor = {Num3}')\n",
    "    else:\n",
    "        print(f'Primeio valor = {Num1} Segundo valor = {Num3} Terceiro valor = {Num2}')\n",
    "elif Num2 > Num1 and Num2 > Num3:\n",
    "    \n",
    "    if Num1 and Num3:\n",
    "        print(f'Primeio valor = {Num2} Segundo valor = {Num1} Terceiro valor = {Num3}')\n",
    "    else:\n",
    "        print(f'Primeio valor = {Num2} Segundo valor = {Num3} Terceiro valor = {Num1}')\n",
    "elif Num3 > Num1 and Num3 > Num2:\n",
    "    if Num1 > Num2:\n",
    "        print(f'Primeio valor = {Num3} Segundo valor = {Num1} Terceiro valor = {Num2}')\n",
    "    else:\n",
    "        print(f'Primeio valor = {Num3} Segundo valor = {Num2} Terceiro valor = {Num1}')\n",
    "\n",
    "        \n",
    "\n"
   ]
  },
  {
   "cell_type": "markdown",
   "id": "5e237a99",
   "metadata": {},
   "source": []
  },
  {
   "cell_type": "markdown",
   "id": "4653a4a6",
   "metadata": {},
   "source": [
    "Exercício 20 - Faça um Programa que pergunte em que turno você estuda. Peça para\n",
    "digitar M-matutino ou V-Vespertino ou N- Noturno. Imprima a mensagem \"Bom Dia!\",\n",
    "\"Boa Tarde!\" ou \"Boa Noite!\" ou \"Valor Inválido!\", conforme o caso."
   ]
  },
  {
   "cell_type": "code",
   "execution_count": 4,
   "id": "935d6479",
   "metadata": {},
   "outputs": [
    {
     "name": "stdout",
     "output_type": "stream",
     "text": [
      "Qual turno vc estuda ? Digite M para matutino, V para vespetino, e N noturno F\n",
      "Valor invalido\n"
     ]
    }
   ],
   "source": [
    "turno = input(\"Qual turno vc estuda ? Digite M para matutino, V para vespetino, e N noturno \")\n",
    "\n",
    "if turno == \"M\":\n",
    "    print(\" Bom dia \")\n",
    "elif turno == \"V\":\n",
    "    print('Boa tarde ')\n",
    "elif turno == \"N\":\n",
    "    print(\"Boa noite\")\n",
    "else: \n",
    "    print('Valor invalido')\n"
   ]
  },
  {
   "cell_type": "code",
   "execution_count": null,
   "id": "f1954854",
   "metadata": {},
   "outputs": [],
   "source": []
  },
  {
   "cell_type": "code",
   "execution_count": null,
   "id": "fbe48f08",
   "metadata": {},
   "outputs": [],
   "source": []
  }
 ],
 "metadata": {
  "kernelspec": {
   "display_name": "Python 3 (ipykernel)",
   "language": "python",
   "name": "python3"
  },
  "language_info": {
   "codemirror_mode": {
    "name": "ipython",
    "version": 3
   },
   "file_extension": ".py",
   "mimetype": "text/x-python",
   "name": "python",
   "nbconvert_exporter": "python",
   "pygments_lexer": "ipython3",
   "version": "3.10.9"
  }
 },
 "nbformat": 4,
 "nbformat_minor": 5
}
